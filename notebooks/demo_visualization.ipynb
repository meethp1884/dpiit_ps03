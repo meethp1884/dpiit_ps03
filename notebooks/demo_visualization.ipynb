{
 "cells": [
  {
   "cell_type": "markdown",
   "metadata": {},
   "source": [
    "# PS-03 Visual Search Demo\n",
    "Interactive demonstration of the visual search pipeline"
   ]
  },
  {
   "cell_type": "code",
   "execution_count": null,
   "metadata": {},
   "outputs": [],
   "source": [
    "import sys\n",
    "sys.path.insert(0, '..')\n",
    "\n",
    "import numpy as np\n",
    "import matplotlib.pyplot as plt\n",
    "from pathlib import Path\n",
    "\n",
    "from engine import read_tiff, normalize_bands, get_rgb_preview\n",
    "from engine import TileGenerator, get_embedder, FAISSIndex\n",
    "\n",
    "%matplotlib inline"
   ]
  },
  {
   "cell_type": "markdown",
   "metadata": {},
   "source": [
    "## 1. Load and Visualize Sample Image"
   ]
  },
  {
   "cell_type": "code",
   "execution_count": null,
   "metadata": {},
   "outputs": [],
   "source": [
    "# Load sample image\n",
    "image_path = '../data/sample_set/GC01PS03S0001.tif'\n",
    "image, metadata = read_tiff(image_path)\n",
    "\n",
    "print(f\"Image shape: {image.shape}\")\n",
    "print(f\"Bands: {metadata['count']}\")\n",
    "print(f\"Size: {metadata['width']}x{metadata['height']}\")"
   ]
  },
  {
   "cell_type": "code",
   "execution_count": null,
   "metadata": {},
   "outputs": [],
   "source": [
    "# Visualize RGB\n",
    "image_norm = normalize_bands(image)\n",
    "rgb = get_rgb_preview(image_norm)\n",
    "\n",
    "plt.figure(figsize=(12, 8))\n",
    "plt.imshow(rgb)\n",
    "plt.title('Sample Image (RGB)')\n",
    "plt.axis('off')\n",
    "plt.show()"
   ]
  },
  {
   "cell_type": "markdown",
   "metadata": {},
   "source": [
    "## 2. Generate Tiles"
   ]
  },
  {
   "cell_type": "code",
   "execution_count": null,
   "metadata": {},
   "outputs": [],
   "source": [
    "# Create tiler\n",
    "tiler = TileGenerator(tile_size=384, stride=192, scales=[1.0])\n",
    "tiles = tiler.tile_image(image_norm)\n",
    "\n",
    "print(f\"Generated {len(tiles)} tiles\")"
   ]
  },
  {
   "cell_type": "code",
   "execution_count": null,
   "metadata": {},
   "outputs": [],
   "source": [
    "# Visualize first 9 tiles\n",
    "fig, axes = plt.subplots(3, 3, figsize=(15, 15))\n",
    "axes = axes.flatten()\n",
    "\n",
    "for i, tile in enumerate(tiles[:9]):\n",
    "    tile_rgb = get_rgb_preview(tile.data)\n",
    "    axes[i].imshow(tile_rgb)\n",
    "    axes[i].set_title(f'Tile {i+1} ({tile.x}, {tile.y})')\n",
    "    axes[i].axis('off')\n",
    "\n",
    "plt.tight_layout()\n",
    "plt.show()"
   ]
  },
  {
   "cell_type": "markdown",
   "metadata": {},
   "source": [
    "## 3. Extract Embeddings"
   ]
  },
  {
   "cell_type": "code",
   "execution_count": null,
   "metadata": {},
   "outputs": [],
   "source": [
    "# Load embedder\n",
    "embedder = get_embedder(architecture='resnet18', device='cpu')\n",
    "\n",
    "import torch\n",
    "# Extract embeddings\n",
    "tile_data = np.stack([t.data for t in tiles[:10]])\n",
    "tile_tensor = torch.from_numpy(tile_data).float()\n",
    "\n",
    "with torch.no_grad():\n",
    "    embeddings = embedder(tile_tensor)\n",
    "    embeddings = embeddings.numpy()\n",
    "\n",
    "print(f\"Embeddings shape: {embeddings.shape}\")"
   ]
  },
  {
   "cell_type": "markdown",
   "metadata": {},
   "source": [
    "## 4. Visualize Similarity"
   ]
  },
  {
   "cell_type": "code",
   "execution_count": null,
   "metadata": {},
   "outputs": [],
   "source": [
    "# Compute similarity matrix\n",
    "from sklearn.metrics.pairwise import cosine_similarity\n",
    "\n",
    "similarity = cosine_similarity(embeddings)\n",
    "\n",
    "plt.figure(figsize=(10, 8))\n",
    "plt.imshow(similarity, cmap='viridis')\n",
    "plt.colorbar(label='Cosine Similarity')\n",
    "plt.title('Tile Similarity Matrix')\n",
    "plt.xlabel('Tile Index')\n",
    "plt.ylabel('Tile Index')\n",
    "plt.show()"
   ]
  }
 ],
 "metadata": {
  "kernelspec": {
   "display_name": "Python 3",
   "language": "python",
   "name": "python3"
  },
  "language_info": {
   "name": "python",
   "version": "3.8.0"
  }
 },
 "nbformat": 4,
 "nbformat_minor": 4
}
