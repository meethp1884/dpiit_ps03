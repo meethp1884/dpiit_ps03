{
  "cells": [
    {
      "cell_type": "markdown",
      "metadata": {},
      "source": [
        "# PS-03 Visual Search - Team AIGR-S47377\n",
        "\n",
        "**Geospatial Object Detection & Retrieval for Satellite Imagery**\n",
        "\n",
        "---\n",
        "\n",
        "## Overview\n",
        "- **Task**: Visual search and detection in multispectral satellite imagery\n",
        "- **Classes**: 8 (Solar Panel, Brick Kiln, Ponds, Playground, Sheds, etc.)\n",
        "- **Method**: CNN Embedder + FAISS + NMS\n",
        "- **Team**: AIGR-S47377"
      ]
    },
    {
      "cell_type": "markdown",
      "metadata": {},
      "source": [
        "## Setup Environment"
      ]
    },
    {
      "cell_type": "code",
      "execution_count": null,
      "metadata": {},
      "outputs": [],
      "source": [
        "# Install required packages\n",
        "!pip install -q rasterio faiss-gpu opencv-python-headless scikit-image pyyaml omegaconf tqdm\n",
        "!pip install -q torch torchvision --index-url https://download.pytorch.org/whl/cu118"
      ]
    },
    {
      "cell_type": "code",
      "execution_count": null,
      "metadata": {},
      "outputs": [],
      "source": [
        "# Import libraries\n",
        "import os\n",
        "import sys\n",
        "import json\n",
        "import numpy as np\n",
        "import torch\n",
        "import faiss\n",
        "from pathlib import Path\n",
        "from tqdm import tqdm\n",
        "import warnings\n",
        "warnings.filterwarnings('ignore')\n",
        "\n",
        "print(f\"PyTorch version: {torch.__version__}\")\n",
        "print(f\"CUDA available: {torch.cuda.is_available()}\")\n",
        "if torch.cuda.is_available():\n",
        "    print(f\"GPU: {torch.cuda.get_device_name(0)}\")"
      ]
    },
    {
      "cell_type": "markdown",
      "metadata": {},
      "source": [
        "## Clone Repository"
      ]
    },
    {
      "cell_type": "code",
      "execution_count": null,
      "metadata": {},
      "outputs": [],
      "source": [
        "# Clone your GitHub repo (update with your repo URL)\n",
        "!git clone https://github.com/YOUR_USERNAME/ps03-visual-search.git\n",
        "%cd ps03-visual-search"
      ]
    },
    {
      "cell_type": "markdown",
      "metadata": {},
      "source": [
        "## Upload Datasets\n",
        "\n",
        "**Option 1**: Upload as Kaggle Dataset (recommended)\n",
        "- Go to https://www.kaggle.com/datasets\n",
        "- Click \"New Dataset\"\n",
        "- Upload your `data/sample_set`, `data/training_set`, `data/testing_set`\n",
        "- Add dataset to this notebook\n",
        "\n",
        "**Option 2**: Upload directly to notebook (slower)"
      ]
    },
    {
      "cell_type": "code",
      "execution_count": null,
      "metadata": {},
      "outputs": [],
      "source": [
        "# If using Kaggle Dataset, symlink to correct location\n",
        "# Replace 'your-username' and 'dataset-name' with actual values\n",
        "\n",
        "# !ln -s /kaggle/input/ps03-sample-set data/sample_set\n",
        "# !ln -s /kaggle/input/ps03-training-set data/training_set  \n",
        "# !ln -s /kaggle/input/ps03-testing-set data/testing_set\n",
        "\n",
        "# OR if uploaded directly:\n",
        "# !mkdir -p data\n",
        "# !cp -r /kaggle/input/your-data/* data/"
      ]
    },
    {
      "cell_type": "code",
      "execution_count": null,
      "metadata": {},
      "outputs": [],
      "source": [
        "# Verify data structure\n",
        "!echo \"Sample set:\"\n",
        "!ls -la data/sample_set/ | head -10\n",
        "!echo \"\\nTraining set:\"\n",
        "!ls data/training_set/*.tif | wc -l\n",
        "!echo \"\\nTesting set:\"\n",
        "!ls data/testing_set/*.tif | wc -l"
      ]
    },
    {
      "cell_type": "markdown",
      "metadata": {},
      "source": [
        "## Extract Query Chips"
      ]
    },
    {
      "cell_type": "code",
      "execution_count": null,
      "metadata": {},
      "outputs": [],
      "source": [
        "# Extract chips from all classes\n",
        "!python scripts/batch_extract_chips.py \\\n",
        "    --sample-dir data/sample_set \\\n",
        "    --out-dir chips \\\n",
        "    --max-chips 5 \\\n",
        "    --padding 20"
      ]
    },
    {
      "cell_type": "code",
      "execution_count": null,
      "metadata": {},
      "outputs": [],
      "source": [
        "# Verify chips extracted\n",
        "!echo \"Extracted chips:\"\n",
        "!find chips -name '*.tif' | wc -l\n",
        "!echo \"\\nChips by class:\"\n",
        "!for class_dir in chips/*/; do echo \"$(basename \"$class_dir\"): $(ls \"$class_dir\"/*.tif 2>/dev/null | wc -l)\"; done"
      ]
    },
    {
      "cell_type": "markdown",
      "metadata": {},
      "source": [
        "## (Optional) Train Embedder\n",
        "\n",
        "**For higher accuracy, train the embedder on your training set.**\n",
        "\n",
        "Skip this if you want baseline results first."
      ]
    },
    {
      "cell_type": "code",
      "execution_count": null,
      "metadata": {},
      "outputs": [],
      "source": [
        "# Train embedder (takes 2-4 hours with GPU)\n",
        "# !python scripts/train_embedder.py \\\n",
        "#     --data data/training_set \\\n",
        "#     --config configs/default.yaml \\\n",
        "#     --epochs 50 \\\n",
        "#     --batch-size 32 \\\n",
        "#     --device cuda \\\n",
        "#     --output models/checkpoints"
      ]
    },
    {
      "cell_type": "markdown",
      "metadata": {},
      "source": [
        "## Build FAISS Index"
      ]
    },
    {
      "cell_type": "code",
      "execution_count": null,
      "metadata": {},
      "outputs": [],
      "source": [
        "# Build index from testing set\n",
        "!python scripts/build_index.py \\\n",
        "    --targets data/testing_set \\\n",
        "    --out cache/indexes \\\n",
        "    --config configs/default.yaml \\\n",
        "    --device cuda \\\n",
        "    --tile-size 512 \\\n",
        "    --stride 256\n",
        "\n",
        "# If you trained embedder, add:\n",
        "# --checkpoint models/checkpoints/best.pth"
      ]
    },
    {
      "cell_type": "code",
      "execution_count": null,
      "metadata": {},
      "outputs": [],
      "source": [
        "# Verify index built\n",
        "!ls -lh cache/indexes/"
      ]
    },
    {
      "cell_type": "markdown",
      "metadata": {},
      "source": [
        "## Run Visual Search for All Classes"
      ]
    },
    {
      "cell_type": "code",
      "execution_count": null,
      "metadata": {},
      "outputs": [],
      "source": [
        "# Create output directory\n",
        "!mkdir -p outputs\n",
        "\n",
        "# Define classes\n",
        "classes = [\n",
        "    \"Solar Panel\",\n",
        "    \"Brick Kiln\",\n",
        "    \"Pond-1 & Pond-2\",\n",
        "    \"Pond-1,Pond-2 & Playground\",\n",
        "    \"Pond-2,STP & Sheds\",\n",
        "    \"MetroShed,STP & Sheds\",\n",
        "    \"Playground\",\n",
        "    \"Sheds\"\n",
        "]\n",
        "\n",
        "print(f\"Total classes: {len(classes)}\")"
      ]
    },
    {
      "cell_type": "code",
      "execution_count": null,
      "metadata": {},
      "outputs": [],
      "source": [
        "# Search for each class\n",
        "import glob\n",
        "\n",
        "for class_name in classes:\n",
        "    print(f\"\\n{'='*60}\")\n",
        "    print(f\"Searching for: {class_name}\")\n",
        "    print(f\"{'='*60}\")\n",
        "    \n",
        "    # Find chips for this class\n",
        "    chip_dir = f\"chips/{class_name}\"\n",
        "    chips = glob.glob(f\"{chip_dir}/*.tif\")\n",
        "    \n",
        "    if not chips:\n",
        "        print(f\"WARNING: No chips found for {class_name}\")\n",
        "        continue\n",
        "    \n",
        "    # Use up to 5 chips\n",
        "    chips = chips[:5]\n",
        "    chip_args = ' '.join([f'\\\"{c}\\\"' for c in chips])\n",
        "    \n",
        "    # Output filename (safe for filesystem)\n",
        "    safe_name = class_name.replace(\" \", \"_\").replace(\",\", \"\").replace(\"&\", \"and\")\n",
        "    output_file = f\"outputs/temp_{safe_name}.txt\"\n",
        "    \n",
        "    # Run search\n",
        "    !python scripts/run_search.py \\\n",
        "        --chips {chip_args} \\\n",
        "        --index cache/indexes \\\n",
        "        --name \"{class_name}\" \\\n",
        "        --out \"{output_file}\" \\\n",
        "        --team AIGR-S47377 \\\n",
        "        --config configs/default.yaml \\\n",
        "        --device cuda \\\n",
        "        --top-k 1000 \\\n",
        "        --nms-threshold 0.3\n",
        "    \n",
        "    print(f\"✓ {class_name} complete\")"
      ]
    },
    {
      "cell_type": "markdown",
      "metadata": {},
      "source": [
        "## Combine All Results"
      ]
    },
    {
      "cell_type": "code",
      "execution_count": null,
      "metadata": {},
      "outputs": [],
      "source": [
        "# Combine all temp files into one submission\n",
        "import datetime\n",
        "\n",
        "# Get current date\n",
        "date_str = datetime.datetime.now().strftime(\"%d-%b-%Y\")\n",
        "submission_file = f\"outputs/GC_PS03_{date_str}_AIGR-S47377.txt\"\n",
        "\n",
        "# Find all temp files\n",
        "temp_files = glob.glob(\"outputs/temp_*.txt\")\n",
        "\n",
        "print(f\"Combining {len(temp_files)} result files...\")\n",
        "\n",
        "# Combine\n",
        "with open(submission_file, 'w') as outfile:\n",
        "    for temp_file in sorted(temp_files):\n",
        "        with open(temp_file, 'r') as infile:\n",
        "            outfile.write(infile.read())\n",
        "\n",
        "print(f\"\\n✓ Combined submission file created: {submission_file}\")"
      ]
    },
    {
      "cell_type": "markdown",
      "metadata": {},
      "source": [
        "## Summary Statistics"
      ]
    },
    {
      "cell_type": "code",
      "execution_count": null,
      "metadata": {},
      "outputs": [],
      "source": [
        "# Count detections\n",
        "with open(submission_file, 'r') as f:\n",
        "    lines = f.readlines()\n",
        "\n",
        "print(f\"\\n{'='*60}\")\n",
        "print(f\"SUBMISSION SUMMARY - Team AIGR-S47377\")\n",
        "print(f\"{'='*60}\")\n",
        "print(f\"\\nTotal Detections: {len(lines)}\")\n",
        "print(f\"\\nDetections by Class:\")\n",
        "\n",
        "for class_name in classes:\n",
        "    count = sum(1 for line in lines if class_name in line)\n",
        "    print(f\"  {class_name:35s}: {count:4d}\")\n",
        "\n",
        "print(f\"\\nOutput File: {submission_file}\")\n",
        "print(f\"Format: PS-03 Standard (space-delimited)\")\n",
        "print(f\"{'='*60}\")"
      ]
    },
    {
      "cell_type": "markdown",
      "metadata": {},
      "source": [
        "## Preview Results"
      ]
    },
    {
      "cell_type": "code",
      "execution_count": null,
      "metadata": {},
      "outputs": [],
      "source": [
        "# Show first 20 lines\n",
        "print(\"\\nFirst 20 detections:\")\n",
        "print(\"-\" * 100)\n",
        "with open(submission_file, 'r') as f:\n",
        "    for i, line in enumerate(f):\n",
        "        if i >= 20:\n",
        "            break\n",
        "        print(line.strip())"
      ]
    },
    {
      "cell_type": "markdown",
      "metadata": {},
      "source": [
        "## Download Submission File"
      ]
    },
    {
      "cell_type": "code",
      "execution_count": null,
      "metadata": {},
      "outputs": [],
      "source": [
        "# Copy to output for download\n",
        "from shutil import copy\n",
        "copy(submission_file, '/kaggle/working/')\n",
        "\n",
        "print(f\"\\n✓ Submission file ready for download!\")\n",
        "print(f\"\\nFile: {submission_file}\")\n",
        "print(f\"\\nDownload from: Files → {os.path.basename(submission_file)}\")"
      ]
    },
    {
      "cell_type": "markdown",
      "metadata": {},
      "source": [
        "## Clean Up (Optional)"
      ]
    },
    {
      "cell_type": "code",
      "execution_count": null,
      "metadata": {},
      "outputs": [],
      "source": [
        "# Remove temp files\n",
        "!rm -f outputs/temp_*.txt\n",
        "print(\"✓ Temp files cleaned\")"
      ]
    },
    {
      "cell_type": "markdown",
      "metadata": {},
      "source": [
        "---\n",
        "\n",
        "## Next Steps\n",
        "\n",
        "1. **Download** the submission file\n",
        "2. **Verify** format matches PS-03 requirements\n",
        "3. **Submit** to hackathon portal\n",
        "\n",
        "## For Higher Accuracy\n",
        "\n",
        "1. **Train embedder** (uncomment training cell)\n",
        "2. **Tune per-class thresholds**\n",
        "3. **Use ensemble** (multiple models)\n",
        "4. **Add augmentation** during search\n",
        "\n",
        "---\n",
        "\n",
        "**Team AIGR-S47377 | PS-03 Visual Search**"
      ]
    }
  ],
  "metadata": {
    "kernelspec": {
      "display_name": "Python 3",
      "language": "python",
      "name": "python3"
    },
    "language_info": {
      "name": "python",
      "version": "3.10.0"
    }
  },
  "nbformat": 4,
  "nbformat_minor": 4
}
